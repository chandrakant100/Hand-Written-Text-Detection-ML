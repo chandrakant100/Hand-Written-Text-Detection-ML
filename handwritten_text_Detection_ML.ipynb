{
  "cells": [
    {
      "cell_type": "markdown",
      "metadata": {
        "id": "view-in-github",
        "colab_type": "text"
      },
      "source": [
        "<a href=\"https://colab.research.google.com/github/chandrakant100/Hand-Written-Text-Detection-ML/blob/master/handwritten_text_Detection_ML.ipynb\" target=\"_parent\"><img src=\"https://colab.research.google.com/assets/colab-badge.svg\" alt=\"Open In Colab\"/></a>"
      ]
    },
    {
      "cell_type": "code",
      "execution_count": 13,
      "id": "2b86ab00",
      "metadata": {
        "execution": {
          "iopub.execute_input": "2022-12-25T17:59:48.771629Z",
          "iopub.status.busy": "2022-12-25T17:59:48.770152Z",
          "iopub.status.idle": "2022-12-25T17:59:59.936944Z",
          "shell.execute_reply": "2022-12-25T17:59:59.936275Z",
          "shell.execute_reply.started": "2022-12-25T16:29:15.518027Z"
        },
        "papermill": {
          "duration": 11.206274,
          "end_time": "2022-12-25T17:59:59.937106",
          "exception": false,
          "start_time": "2022-12-25T17:59:48.730832",
          "status": "completed"
        },
        "tags": [],
        "colab": {
          "base_uri": "https://localhost:8080/"
        },
        "id": "2b86ab00",
        "outputId": "6f6923c4-6217-46ef-da02-8b7120e8cc72"
      },
      "outputs": [
        {
          "output_type": "stream",
          "name": "stdout",
          "text": [
            "Requirement already satisfied: imutils in /usr/local/lib/python3.10/dist-packages (0.5.4)\n"
          ]
        }
      ],
      "source": [
        "!pip install imutils"
      ]
    },
    {
      "cell_type": "code",
      "execution_count": 14,
      "id": "509461b5",
      "metadata": {
        "_cell_guid": "79c7e3d0-c299-4dcb-8224-4455121ee9b0",
        "_uuid": "d629ff2d2480ee46fbb7e2d37f6b5fab8052498a",
        "execution": {
          "iopub.execute_input": "2022-12-25T17:59:59.990156Z",
          "iopub.status.busy": "2022-12-25T17:59:59.989260Z",
          "iopub.status.idle": "2022-12-25T18:00:06.079609Z",
          "shell.execute_reply": "2022-12-25T18:00:06.079082Z",
          "shell.execute_reply.started": "2022-12-25T16:29:26.593476Z"
        },
        "papermill": {
          "duration": 6.119119,
          "end_time": "2022-12-25T18:00:06.079749",
          "exception": false,
          "start_time": "2022-12-25T17:59:59.960630",
          "status": "completed"
        },
        "tags": [],
        "id": "509461b5"
      },
      "outputs": [],
      "source": [
        "import numpy as np\n",
        "import pandas as pd\n",
        "from keras.preprocessing.image import ImageDataGenerator\n",
        "import os\n",
        "import random\n",
        "import cv2\n",
        "import imutils\n",
        "import random\n",
        "import matplotlib.pyplot as plt\n",
        "import seaborn as sns\n",
        "from sklearn.preprocessing import LabelBinarizer\n",
        "from keras.utils import np_utils\n",
        "from keras.models import Sequential\n",
        "from keras import optimizers\n",
        "from sklearn.preprocessing import LabelBinarizer\n",
        "from keras import backend as K\n",
        "from keras.layers import Dense, Activation, Flatten, Dense,MaxPooling2D, Dropout\n",
        "from keras.layers import Conv2D, MaxPooling2D, BatchNormalization"
      ]
    },
    {
      "cell_type": "code",
      "execution_count": 15,
      "id": "711d6f4a",
      "metadata": {
        "execution": {
          "iopub.execute_input": "2022-12-25T18:00:06.130327Z",
          "iopub.status.busy": "2022-12-25T18:00:06.129756Z",
          "iopub.status.idle": "2022-12-25T18:13:03.342664Z",
          "shell.execute_reply": "2022-12-25T18:13:03.342025Z",
          "shell.execute_reply.started": "2022-12-25T16:29:32.608940Z"
        },
        "papermill": {
          "duration": 777.240709,
          "end_time": "2022-12-25T18:13:03.342848",
          "exception": false,
          "start_time": "2022-12-25T18:00:06.102139",
          "status": "completed"
        },
        "tags": [],
        "id": "711d6f4a"
      },
      "outputs": [],
      "source": [
        "dir = \"/content/handwrittencharacterDataset/Train\"\n",
        "train_data = []\n",
        "img_size = 32\n",
        "non_chars = [\"#\",\"$\",\"&\",\"@\"]\n",
        "for i in os.listdir(dir):\n",
        "    if i in non_chars:\n",
        "        continue\n",
        "    count = 0\n",
        "    sub_directory = os.path.join(dir,i)\n",
        "    for j in os.listdir(sub_directory):\n",
        "        count+=1\n",
        "        if count > 4000:\n",
        "            break\n",
        "        img = cv2.imread(os.path.join(sub_directory,j),0)\n",
        "        img = cv2.resize(img,(img_size,img_size))\n",
        "        train_data.append([img,i])"
      ]
    },
    {
      "cell_type": "code",
      "execution_count": 16,
      "id": "4519fbbf",
      "metadata": {
        "execution": {
          "iopub.execute_input": "2022-12-25T18:13:03.393848Z",
          "iopub.status.busy": "2022-12-25T18:13:03.391099Z",
          "iopub.status.idle": "2022-12-25T18:13:03.399092Z",
          "shell.execute_reply": "2022-12-25T18:13:03.398668Z",
          "shell.execute_reply.started": "2022-12-25T16:43:13.913446Z"
        },
        "papermill": {
          "duration": 0.033581,
          "end_time": "2022-12-25T18:13:03.399227",
          "exception": false,
          "start_time": "2022-12-25T18:13:03.365646",
          "status": "completed"
        },
        "tags": [],
        "colab": {
          "base_uri": "https://localhost:8080/"
        },
        "id": "4519fbbf",
        "outputId": "1ba200f7-78db-445e-d032-b95da76388d2"
      },
      "outputs": [
        {
          "output_type": "execute_result",
          "data": {
            "text/plain": [
              "140000"
            ]
          },
          "metadata": {},
          "execution_count": 16
        }
      ],
      "source": [
        "len(train_data)"
      ]
    },
    {
      "cell_type": "code",
      "execution_count": 17,
      "id": "8661fcc9",
      "metadata": {
        "execution": {
          "iopub.execute_input": "2022-12-25T18:13:03.449720Z",
          "iopub.status.busy": "2022-12-25T18:13:03.449035Z",
          "iopub.status.idle": "2022-12-25T18:14:13.285877Z",
          "shell.execute_reply": "2022-12-25T18:14:13.285224Z",
          "shell.execute_reply.started": "2022-12-25T16:43:13.925697Z"
        },
        "papermill": {
          "duration": 69.864658,
          "end_time": "2022-12-25T18:14:13.286020",
          "exception": false,
          "start_time": "2022-12-25T18:13:03.421362",
          "status": "completed"
        },
        "tags": [],
        "id": "8661fcc9"
      },
      "outputs": [],
      "source": [
        "val_dir = \"/content/handwrittencharacterDataset/Validation\"\n",
        "val_data = []\n",
        "img_size = 32\n",
        "for i in os.listdir(val_dir):\n",
        "    if i in non_chars:\n",
        "        continue\n",
        "    count = 0\n",
        "    sub_directory = os.path.join(val_dir,i)\n",
        "    for j in os.listdir(sub_directory):\n",
        "        count+=1\n",
        "        if count > 1000:\n",
        "            break\n",
        "        img = cv2.imread(os.path.join(sub_directory,j),0)\n",
        "        img = cv2.resize(img,(img_size,img_size))\n",
        "        val_data.append([img,i])"
      ]
    },
    {
      "cell_type": "code",
      "execution_count": 18,
      "id": "e87ade35",
      "metadata": {
        "execution": {
          "iopub.execute_input": "2022-12-25T18:14:13.335390Z",
          "iopub.status.busy": "2022-12-25T18:14:13.334843Z",
          "iopub.status.idle": "2022-12-25T18:14:13.339617Z",
          "shell.execute_reply": "2022-12-25T18:14:13.340042Z",
          "shell.execute_reply.started": "2022-12-25T16:44:57.183210Z"
        },
        "papermill": {
          "duration": 0.031289,
          "end_time": "2022-12-25T18:14:13.340178",
          "exception": false,
          "start_time": "2022-12-25T18:14:13.308889",
          "status": "completed"
        },
        "tags": [],
        "colab": {
          "base_uri": "https://localhost:8080/"
        },
        "id": "e87ade35",
        "outputId": "33f311c5-35b9-41ed-a12e-77a710009877"
      },
      "outputs": [
        {
          "output_type": "execute_result",
          "data": {
            "text/plain": [
              "15209"
            ]
          },
          "metadata": {},
          "execution_count": 18
        }
      ],
      "source": [
        "len(val_data)"
      ]
    },
    {
      "cell_type": "code",
      "execution_count": 19,
      "id": "4d7bf1af",
      "metadata": {
        "execution": {
          "iopub.execute_input": "2022-12-25T18:14:13.417564Z",
          "iopub.status.busy": "2022-12-25T18:14:13.407204Z",
          "iopub.status.idle": "2022-12-25T18:14:13.515257Z",
          "shell.execute_reply": "2022-12-25T18:14:13.514776Z",
          "shell.execute_reply.started": "2022-12-25T16:44:57.192547Z"
        },
        "papermill": {
          "duration": 0.153013,
          "end_time": "2022-12-25T18:14:13.515396",
          "exception": false,
          "start_time": "2022-12-25T18:14:13.362383",
          "status": "completed"
        },
        "tags": [],
        "id": "4d7bf1af"
      },
      "outputs": [],
      "source": [
        "random.shuffle(train_data)\n",
        "random.shuffle(val_data)"
      ]
    },
    {
      "cell_type": "code",
      "execution_count": 20,
      "id": "133daaf4",
      "metadata": {
        "execution": {
          "iopub.execute_input": "2022-12-25T18:14:13.588841Z",
          "iopub.status.busy": "2022-12-25T18:14:13.573392Z",
          "iopub.status.idle": "2022-12-25T18:14:13.639217Z",
          "shell.execute_reply": "2022-12-25T18:14:13.638773Z",
          "shell.execute_reply.started": "2022-12-25T16:44:57.341186Z"
        },
        "papermill": {
          "duration": 0.101446,
          "end_time": "2022-12-25T18:14:13.639374",
          "exception": false,
          "start_time": "2022-12-25T18:14:13.537928",
          "status": "completed"
        },
        "tags": [],
        "id": "133daaf4"
      },
      "outputs": [],
      "source": [
        "train_X = []\n",
        "train_Y = []\n",
        "for features,label in train_data:\n",
        "    train_X.append(features)\n",
        "    train_Y.append(label)"
      ]
    },
    {
      "cell_type": "code",
      "execution_count": 21,
      "id": "0c286ff1",
      "metadata": {
        "execution": {
          "iopub.execute_input": "2022-12-25T18:14:13.696306Z",
          "iopub.status.busy": "2022-12-25T18:14:13.695513Z",
          "iopub.status.idle": "2022-12-25T18:14:13.697554Z",
          "shell.execute_reply": "2022-12-25T18:14:13.697939Z",
          "shell.execute_reply.started": "2022-12-25T16:44:57.420145Z"
        },
        "papermill": {
          "duration": 0.03589,
          "end_time": "2022-12-25T18:14:13.698070",
          "exception": false,
          "start_time": "2022-12-25T18:14:13.662180",
          "status": "completed"
        },
        "tags": [],
        "id": "0c286ff1"
      },
      "outputs": [],
      "source": [
        "val_X = []\n",
        "val_Y = []\n",
        "for features,label in val_data:\n",
        "    val_X.append(features)\n",
        "    val_Y.append(label)"
      ]
    },
    {
      "cell_type": "code",
      "execution_count": 22,
      "id": "1e4be09a",
      "metadata": {
        "execution": {
          "iopub.execute_input": "2022-12-25T18:14:13.762377Z",
          "iopub.status.busy": "2022-12-25T18:14:13.756986Z",
          "iopub.status.idle": "2022-12-25T18:14:14.016113Z",
          "shell.execute_reply": "2022-12-25T18:14:14.015576Z",
          "shell.execute_reply.started": "2022-12-25T16:44:57.434139Z"
        },
        "papermill": {
          "duration": 0.295923,
          "end_time": "2022-12-25T18:14:14.016249",
          "exception": false,
          "start_time": "2022-12-25T18:14:13.720326",
          "status": "completed"
        },
        "tags": [],
        "id": "1e4be09a"
      },
      "outputs": [],
      "source": [
        "LB = LabelBinarizer()\n",
        "train_Y = LB.fit_transform(train_Y)\n",
        "val_Y = LB.fit_transform(val_Y)"
      ]
    },
    {
      "cell_type": "code",
      "execution_count": 23,
      "id": "f4e0ee88",
      "metadata": {
        "execution": {
          "iopub.execute_input": "2022-12-25T18:14:14.092364Z",
          "iopub.status.busy": "2022-12-25T18:14:14.091484Z",
          "iopub.status.idle": "2022-12-25T18:14:14.595692Z",
          "shell.execute_reply": "2022-12-25T18:14:14.595157Z",
          "shell.execute_reply.started": "2022-12-25T16:44:57.744969Z"
        },
        "papermill": {
          "duration": 0.557122,
          "end_time": "2022-12-25T18:14:14.595831",
          "exception": false,
          "start_time": "2022-12-25T18:14:14.038709",
          "status": "completed"
        },
        "tags": [],
        "id": "f4e0ee88"
      },
      "outputs": [],
      "source": [
        "train_X = np.array(train_X)/255.0\n",
        "train_X = train_X.reshape(-1,32,32,1)\n",
        "train_Y = np.array(train_Y)"
      ]
    },
    {
      "cell_type": "code",
      "execution_count": 24,
      "id": "6cf4cbce",
      "metadata": {
        "execution": {
          "iopub.execute_input": "2022-12-25T18:14:14.648788Z",
          "iopub.status.busy": "2022-12-25T18:14:14.647927Z",
          "iopub.status.idle": "2022-12-25T18:14:14.704267Z",
          "shell.execute_reply": "2022-12-25T18:14:14.703795Z",
          "shell.execute_reply.started": "2022-12-25T16:44:58.292275Z"
        },
        "papermill": {
          "duration": 0.085667,
          "end_time": "2022-12-25T18:14:14.704433",
          "exception": false,
          "start_time": "2022-12-25T18:14:14.618766",
          "status": "completed"
        },
        "tags": [],
        "id": "6cf4cbce"
      },
      "outputs": [],
      "source": [
        "val_X = np.array(val_X)/255.0\n",
        "val_X = val_X.reshape(-1,32,32,1)\n",
        "val_Y = np.array(val_Y)"
      ]
    },
    {
      "cell_type": "code",
      "execution_count": 25,
      "id": "be0e108b",
      "metadata": {
        "execution": {
          "iopub.execute_input": "2022-12-25T18:14:14.754104Z",
          "iopub.status.busy": "2022-12-25T18:14:14.753293Z",
          "iopub.status.idle": "2022-12-25T18:14:14.757002Z",
          "shell.execute_reply": "2022-12-25T18:14:14.757605Z",
          "shell.execute_reply.started": "2022-12-25T16:44:58.360337Z"
        },
        "papermill": {
          "duration": 0.030553,
          "end_time": "2022-12-25T18:14:14.757784",
          "exception": false,
          "start_time": "2022-12-25T18:14:14.727231",
          "status": "completed"
        },
        "tags": [],
        "colab": {
          "base_uri": "https://localhost:8080/"
        },
        "id": "be0e108b",
        "outputId": "abdc6a80-f047-4ee7-ded6-dce5624f229d"
      },
      "outputs": [
        {
          "output_type": "stream",
          "name": "stdout",
          "text": [
            "(140000, 32, 32, 1) (15209, 32, 32, 1)\n"
          ]
        }
      ],
      "source": [
        "print(train_X.shape,val_X.shape)"
      ]
    },
    {
      "cell_type": "code",
      "execution_count": 26,
      "id": "a5c3a6f1",
      "metadata": {
        "execution": {
          "iopub.execute_input": "2022-12-25T18:14:14.807667Z",
          "iopub.status.busy": "2022-12-25T18:14:14.807095Z",
          "iopub.status.idle": "2022-12-25T18:14:14.810301Z",
          "shell.execute_reply": "2022-12-25T18:14:14.810866Z",
          "shell.execute_reply.started": "2022-12-25T16:44:58.369002Z"
        },
        "papermill": {
          "duration": 0.029938,
          "end_time": "2022-12-25T18:14:14.811023",
          "exception": false,
          "start_time": "2022-12-25T18:14:14.781085",
          "status": "completed"
        },
        "tags": [],
        "colab": {
          "base_uri": "https://localhost:8080/"
        },
        "id": "a5c3a6f1",
        "outputId": "0fec3396-10c5-43e1-92af-2ca645d4fef6"
      },
      "outputs": [
        {
          "output_type": "stream",
          "name": "stdout",
          "text": [
            "(140000, 35) (15209, 35)\n"
          ]
        }
      ],
      "source": [
        "print(train_Y.shape,val_Y.shape)"
      ]
    },
    {
      "cell_type": "code",
      "execution_count": 27,
      "id": "1da45461",
      "metadata": {
        "execution": {
          "iopub.execute_input": "2022-12-25T18:14:14.864058Z",
          "iopub.status.busy": "2022-12-25T18:14:14.863432Z",
          "iopub.status.idle": "2022-12-25T18:14:17.777114Z",
          "shell.execute_reply": "2022-12-25T18:14:17.776473Z",
          "shell.execute_reply.started": "2022-12-25T16:44:58.377505Z"
        },
        "papermill": {
          "duration": 2.942608,
          "end_time": "2022-12-25T18:14:17.777274",
          "exception": false,
          "start_time": "2022-12-25T18:14:14.834666",
          "status": "completed"
        },
        "tags": [],
        "id": "1da45461"
      },
      "outputs": [],
      "source": [
        "model = Sequential()\n",
        "\n",
        "model.add(Conv2D(32, (3, 3), padding = \"same\", activation='relu', input_shape=(32,32,1)))\n",
        "model.add(MaxPooling2D(pool_size=(2,2)))\n",
        "\n",
        "model.add(Conv2D(64, (3, 3), activation='relu'))\n",
        "model.add(MaxPooling2D(pool_size=(2,2)))\n",
        "\n",
        "model.add(Conv2D(128, (3, 3), activation='relu'))\n",
        "model.add(MaxPooling2D(pool_size=(2,2)))\n",
        "\n",
        "model.add(Dropout(0.25))\n",
        "\n",
        "model.add(Flatten())\n",
        "model.add(Dense(128, activation='relu'))\n",
        "model.add(Dropout(0.2))\n",
        "model.add(Dense(35, activation='softmax'))"
      ]
    },
    {
      "cell_type": "code",
      "execution_count": 28,
      "id": "69153826",
      "metadata": {
        "execution": {
          "iopub.execute_input": "2022-12-25T18:14:17.832412Z",
          "iopub.status.busy": "2022-12-25T18:14:17.831874Z",
          "iopub.status.idle": "2022-12-25T18:14:17.837929Z",
          "shell.execute_reply": "2022-12-25T18:14:17.838337Z",
          "shell.execute_reply.started": "2022-12-25T16:45:01.314069Z"
        },
        "papermill": {
          "duration": 0.036298,
          "end_time": "2022-12-25T18:14:17.838531",
          "exception": false,
          "start_time": "2022-12-25T18:14:17.802233",
          "status": "completed"
        },
        "tags": [],
        "colab": {
          "base_uri": "https://localhost:8080/"
        },
        "id": "69153826",
        "outputId": "55f0105e-e58e-470c-c585-da6b018c3092"
      },
      "outputs": [
        {
          "output_type": "stream",
          "name": "stdout",
          "text": [
            "Model: \"sequential\"\n",
            "_________________________________________________________________\n",
            " Layer (type)                Output Shape              Param #   \n",
            "=================================================================\n",
            " conv2d (Conv2D)             (None, 32, 32, 32)        320       \n",
            "                                                                 \n",
            " max_pooling2d (MaxPooling2D  (None, 16, 16, 32)       0         \n",
            " )                                                               \n",
            "                                                                 \n",
            " conv2d_1 (Conv2D)           (None, 14, 14, 64)        18496     \n",
            "                                                                 \n",
            " max_pooling2d_1 (MaxPooling  (None, 7, 7, 64)         0         \n",
            " 2D)                                                             \n",
            "                                                                 \n",
            " conv2d_2 (Conv2D)           (None, 5, 5, 128)         73856     \n",
            "                                                                 \n",
            " max_pooling2d_2 (MaxPooling  (None, 2, 2, 128)        0         \n",
            " 2D)                                                             \n",
            "                                                                 \n",
            " dropout (Dropout)           (None, 2, 2, 128)         0         \n",
            "                                                                 \n",
            " flatten (Flatten)           (None, 512)               0         \n",
            "                                                                 \n",
            " dense (Dense)               (None, 128)               65664     \n",
            "                                                                 \n",
            " dropout_1 (Dropout)         (None, 128)               0         \n",
            "                                                                 \n",
            " dense_1 (Dense)             (None, 35)                4515      \n",
            "                                                                 \n",
            "=================================================================\n",
            "Total params: 162,851\n",
            "Trainable params: 162,851\n",
            "Non-trainable params: 0\n",
            "_________________________________________________________________\n"
          ]
        }
      ],
      "source": [
        "model.summary()"
      ]
    },
    {
      "cell_type": "code",
      "execution_count": 29,
      "id": "e451d294",
      "metadata": {
        "execution": {
          "iopub.execute_input": "2022-12-25T18:14:17.896845Z",
          "iopub.status.busy": "2022-12-25T18:14:17.892802Z",
          "iopub.status.idle": "2022-12-25T18:14:17.902822Z",
          "shell.execute_reply": "2022-12-25T18:14:17.902412Z",
          "shell.execute_reply.started": "2022-12-25T16:45:01.328049Z"
        },
        "papermill": {
          "duration": 0.03874,
          "end_time": "2022-12-25T18:14:17.902930",
          "exception": false,
          "start_time": "2022-12-25T18:14:17.864190",
          "status": "completed"
        },
        "tags": [],
        "id": "e451d294"
      },
      "outputs": [],
      "source": [
        "model.compile(loss='categorical_crossentropy', optimizer=\"adam\",metrics=['accuracy'])"
      ]
    },
    {
      "cell_type": "code",
      "execution_count": 30,
      "id": "70011c7d",
      "metadata": {
        "execution": {
          "iopub.execute_input": "2022-12-25T18:14:17.954651Z",
          "iopub.status.busy": "2022-12-25T18:14:17.953990Z",
          "iopub.status.idle": "2022-12-25T18:32:11.010660Z",
          "shell.execute_reply": "2022-12-25T18:32:11.011132Z",
          "shell.execute_reply.started": "2022-12-25T16:45:01.340926Z"
        },
        "papermill": {
          "duration": 1073.084654,
          "end_time": "2022-12-25T18:32:11.011375",
          "exception": false,
          "start_time": "2022-12-25T18:14:17.926721",
          "status": "completed"
        },
        "tags": [],
        "colab": {
          "base_uri": "https://localhost:8080/"
        },
        "id": "70011c7d",
        "outputId": "a1a7216d-8a32-40a8-cd8c-0ee03fd52197"
      },
      "outputs": [
        {
          "output_type": "stream",
          "name": "stdout",
          "text": [
            "Epoch 1/50\n",
            "2188/2188 [==============================] - 293s 133ms/step - loss: 0.6676 - accuracy: 0.7896 - val_loss: 0.3373 - val_accuracy: 0.8911\n",
            "Epoch 2/50\n",
            "2188/2188 [==============================] - 282s 129ms/step - loss: 0.3573 - accuracy: 0.8794 - val_loss: 0.2747 - val_accuracy: 0.9132\n",
            "Epoch 3/50\n",
            "2188/2188 [==============================] - 290s 133ms/step - loss: 0.3085 - accuracy: 0.8948 - val_loss: 0.2369 - val_accuracy: 0.9214\n",
            "Epoch 4/50\n",
            "2188/2188 [==============================] - 278s 127ms/step - loss: 0.2817 - accuracy: 0.9029 - val_loss: 0.2729 - val_accuracy: 0.8977\n",
            "Epoch 5/50\n",
            "2188/2188 [==============================] - 279s 127ms/step - loss: 0.2631 - accuracy: 0.9089 - val_loss: 0.2562 - val_accuracy: 0.9068\n",
            "Epoch 6/50\n",
            "2188/2188 [==============================] - 274s 125ms/step - loss: 0.2493 - accuracy: 0.9128 - val_loss: 0.2488 - val_accuracy: 0.9066\n",
            "Epoch 7/50\n",
            "2188/2188 [==============================] - 269s 123ms/step - loss: 0.2393 - accuracy: 0.9164 - val_loss: 0.2485 - val_accuracy: 0.9097\n",
            "Epoch 8/50\n",
            "2188/2188 [==============================] - 271s 124ms/step - loss: 0.2291 - accuracy: 0.9196 - val_loss: 0.2347 - val_accuracy: 0.9140\n",
            "Epoch 9/50\n",
            "2188/2188 [==============================] - 274s 125ms/step - loss: 0.2237 - accuracy: 0.9195 - val_loss: 0.2405 - val_accuracy: 0.9171\n",
            "Epoch 10/50\n",
            "2188/2188 [==============================] - 270s 123ms/step - loss: 0.2156 - accuracy: 0.9226 - val_loss: 0.2407 - val_accuracy: 0.9175\n",
            "Epoch 11/50\n",
            "2188/2188 [==============================] - 271s 124ms/step - loss: 0.2100 - accuracy: 0.9247 - val_loss: 0.2362 - val_accuracy: 0.9179\n",
            "Epoch 12/50\n",
            "2188/2188 [==============================] - 268s 123ms/step - loss: 0.2052 - accuracy: 0.9258 - val_loss: 0.2435 - val_accuracy: 0.9085\n",
            "Epoch 13/50\n",
            "2188/2188 [==============================] - 272s 124ms/step - loss: 0.1983 - accuracy: 0.9275 - val_loss: 0.2331 - val_accuracy: 0.9168\n",
            "Epoch 14/50\n",
            "2188/2188 [==============================] - 270s 124ms/step - loss: 0.1941 - accuracy: 0.9288 - val_loss: 0.2338 - val_accuracy: 0.9171\n",
            "Epoch 15/50\n",
            "2188/2188 [==============================] - 267s 122ms/step - loss: 0.1903 - accuracy: 0.9293 - val_loss: 0.2306 - val_accuracy: 0.9265\n",
            "Epoch 16/50\n",
            "2188/2188 [==============================] - 273s 125ms/step - loss: 0.1864 - accuracy: 0.9312 - val_loss: 0.2398 - val_accuracy: 0.9131\n",
            "Epoch 17/50\n",
            "2188/2188 [==============================] - 271s 124ms/step - loss: 0.1860 - accuracy: 0.9313 - val_loss: 0.2276 - val_accuracy: 0.9231\n",
            "Epoch 18/50\n",
            "2188/2188 [==============================] - 271s 124ms/step - loss: 0.1808 - accuracy: 0.9331 - val_loss: 0.2481 - val_accuracy: 0.9022\n",
            "Epoch 19/50\n",
            "2188/2188 [==============================] - 268s 123ms/step - loss: 0.1791 - accuracy: 0.9331 - val_loss: 0.2367 - val_accuracy: 0.9196\n",
            "Epoch 20/50\n",
            "2188/2188 [==============================] - 266s 122ms/step - loss: 0.1733 - accuracy: 0.9353 - val_loss: 0.2358 - val_accuracy: 0.9211\n",
            "Epoch 21/50\n",
            "2188/2188 [==============================] - 259s 119ms/step - loss: 0.1746 - accuracy: 0.9342 - val_loss: 0.2327 - val_accuracy: 0.9221\n",
            "Epoch 22/50\n",
            "2188/2188 [==============================] - 254s 116ms/step - loss: 0.1705 - accuracy: 0.9362 - val_loss: 0.2420 - val_accuracy: 0.9103\n",
            "Epoch 23/50\n",
            "2188/2188 [==============================] - 257s 117ms/step - loss: 0.1705 - accuracy: 0.9358 - val_loss: 0.2329 - val_accuracy: 0.9224\n",
            "Epoch 24/50\n",
            "2188/2188 [==============================] - 257s 117ms/step - loss: 0.1671 - accuracy: 0.9371 - val_loss: 0.2436 - val_accuracy: 0.9166\n",
            "Epoch 25/50\n",
            "2188/2188 [==============================] - 255s 117ms/step - loss: 0.1660 - accuracy: 0.9374 - val_loss: 0.2513 - val_accuracy: 0.9172\n",
            "Epoch 26/50\n",
            "2188/2188 [==============================] - 254s 116ms/step - loss: 0.1625 - accuracy: 0.9379 - val_loss: 0.2351 - val_accuracy: 0.9254\n",
            "Epoch 27/50\n",
            "2188/2188 [==============================] - 262s 120ms/step - loss: 0.1609 - accuracy: 0.9385 - val_loss: 0.2442 - val_accuracy: 0.9211\n",
            "Epoch 28/50\n",
            "2188/2188 [==============================] - 262s 120ms/step - loss: 0.1588 - accuracy: 0.9394 - val_loss: 0.2437 - val_accuracy: 0.9174\n",
            "Epoch 29/50\n",
            "2188/2188 [==============================] - 263s 120ms/step - loss: 0.1588 - accuracy: 0.9398 - val_loss: 0.2502 - val_accuracy: 0.9196\n",
            "Epoch 30/50\n",
            "2188/2188 [==============================] - 265s 121ms/step - loss: 0.1576 - accuracy: 0.9389 - val_loss: 0.2628 - val_accuracy: 0.9156\n",
            "Epoch 31/50\n",
            "2188/2188 [==============================] - 257s 117ms/step - loss: 0.1542 - accuracy: 0.9405 - val_loss: 0.2443 - val_accuracy: 0.9172\n",
            "Epoch 32/50\n",
            "2188/2188 [==============================] - 258s 118ms/step - loss: 0.1538 - accuracy: 0.9409 - val_loss: 0.2492 - val_accuracy: 0.9192\n",
            "Epoch 33/50\n",
            "2188/2188 [==============================] - 258s 118ms/step - loss: 0.1535 - accuracy: 0.9410 - val_loss: 0.2509 - val_accuracy: 0.9198\n",
            "Epoch 34/50\n",
            "2188/2188 [==============================] - 256s 117ms/step - loss: 0.1521 - accuracy: 0.9413 - val_loss: 0.2520 - val_accuracy: 0.9253\n",
            "Epoch 35/50\n",
            "2188/2188 [==============================] - 262s 120ms/step - loss: 0.1514 - accuracy: 0.9420 - val_loss: 0.2661 - val_accuracy: 0.9152\n",
            "Epoch 36/50\n",
            "2188/2188 [==============================] - 262s 120ms/step - loss: 0.1500 - accuracy: 0.9418 - val_loss: 0.2563 - val_accuracy: 0.9171\n",
            "Epoch 37/50\n",
            "2188/2188 [==============================] - 263s 120ms/step - loss: 0.1471 - accuracy: 0.9428 - val_loss: 0.2516 - val_accuracy: 0.9264\n",
            "Epoch 38/50\n",
            "2188/2188 [==============================] - 264s 121ms/step - loss: 0.1464 - accuracy: 0.9433 - val_loss: 0.2670 - val_accuracy: 0.9137\n",
            "Epoch 39/50\n",
            "2188/2188 [==============================] - 266s 121ms/step - loss: 0.1457 - accuracy: 0.9438 - val_loss: 0.2903 - val_accuracy: 0.9108\n",
            "Epoch 40/50\n",
            "2188/2188 [==============================] - 266s 122ms/step - loss: 0.1466 - accuracy: 0.9438 - val_loss: 0.2543 - val_accuracy: 0.9231\n",
            "Epoch 41/50\n",
            "2188/2188 [==============================] - 265s 121ms/step - loss: 0.1438 - accuracy: 0.9438 - val_loss: 0.2651 - val_accuracy: 0.9130\n",
            "Epoch 42/50\n",
            "2188/2188 [==============================] - 262s 120ms/step - loss: 0.1443 - accuracy: 0.9445 - val_loss: 0.2643 - val_accuracy: 0.9217\n",
            "Epoch 43/50\n",
            "2188/2188 [==============================] - 264s 121ms/step - loss: 0.1430 - accuracy: 0.9450 - val_loss: 0.2767 - val_accuracy: 0.9124\n",
            "Epoch 44/50\n",
            "2188/2188 [==============================] - 263s 120ms/step - loss: 0.1430 - accuracy: 0.9448 - val_loss: 0.2552 - val_accuracy: 0.9222\n",
            "Epoch 45/50\n",
            "2188/2188 [==============================] - 265s 121ms/step - loss: 0.1409 - accuracy: 0.9448 - val_loss: 0.2698 - val_accuracy: 0.9149\n",
            "Epoch 46/50\n",
            "2188/2188 [==============================] - 265s 121ms/step - loss: 0.1401 - accuracy: 0.9457 - val_loss: 0.2642 - val_accuracy: 0.9214\n",
            "Epoch 47/50\n",
            "2188/2188 [==============================] - 260s 119ms/step - loss: 0.1410 - accuracy: 0.9458 - val_loss: 0.2537 - val_accuracy: 0.9264\n",
            "Epoch 48/50\n",
            "2188/2188 [==============================] - 264s 121ms/step - loss: 0.1392 - accuracy: 0.9463 - val_loss: 0.2500 - val_accuracy: 0.9271\n",
            "Epoch 49/50\n",
            "2188/2188 [==============================] - 262s 120ms/step - loss: 0.1386 - accuracy: 0.9462 - val_loss: 0.2590 - val_accuracy: 0.9181\n",
            "Epoch 50/50\n",
            "2188/2188 [==============================] - 259s 118ms/step - loss: 0.1380 - accuracy: 0.9465 - val_loss: 0.2730 - val_accuracy: 0.9149\n"
          ]
        }
      ],
      "source": [
        "history = model.fit(train_X,train_Y, epochs=50, batch_size=64, validation_data = (val_X, val_Y),  verbose=1)"
      ]
    },
    {
      "cell_type": "code",
      "execution_count": 31,
      "id": "cbaf64a4",
      "metadata": {
        "execution": {
          "iopub.execute_input": "2022-12-25T18:32:19.525177Z",
          "iopub.status.busy": "2022-12-25T18:32:19.524354Z",
          "iopub.status.idle": "2022-12-25T18:32:19.751051Z",
          "shell.execute_reply": "2022-12-25T18:32:19.751503Z",
          "shell.execute_reply.started": "2022-12-25T16:53:25.362561Z"
        },
        "papermill": {
          "duration": 4.605346,
          "end_time": "2022-12-25T18:32:19.751665",
          "exception": false,
          "start_time": "2022-12-25T18:32:15.146319",
          "status": "completed"
        },
        "tags": [],
        "colab": {
          "base_uri": "https://localhost:8080/",
          "height": 472
        },
        "id": "cbaf64a4",
        "outputId": "193bf7a9-ee2c-4393-c84a-8328592df596"
      },
      "outputs": [
        {
          "output_type": "display_data",
          "data": {
            "text/plain": [
              "<Figure size 640x480 with 1 Axes>"
            ],
            "image/png": "[encoded data removed]"
          },
          "metadata": {}
        }
      ],
      "source": [
        "plt.plot(history.history['accuracy'])\n",
        "plt.plot(history.history['val_accuracy'])\n",
        "plt.title('Training Accuracy vs Validation Accuracy')\n",
        "plt.ylabel('Accuracy')\n",
        "plt.xlabel('Epoch')\n",
        "plt.legend(['Train', 'Validation'], loc='upper left')\n",
        "plt.show()"
      ]
    },
    {
      "cell_type": "code",
      "execution_count": 32,
      "id": "3e471322",
      "metadata": {
        "execution": {
          "iopub.execute_input": "2022-12-25T18:32:27.967054Z",
          "iopub.status.busy": "2022-12-25T18:32:27.966175Z",
          "iopub.status.idle": "2022-12-25T18:32:28.144237Z",
          "shell.execute_reply": "2022-12-25T18:32:28.144679Z",
          "shell.execute_reply.started": "2022-12-25T16:53:25.594180Z"
        },
        "papermill": {
          "duration": 4.33652,
          "end_time": "2022-12-25T18:32:28.144843",
          "exception": false,
          "start_time": "2022-12-25T18:32:23.808323",
          "status": "completed"
        },
        "tags": [],
        "colab": {
          "base_uri": "https://localhost:8080/",
          "height": 472
        },
        "id": "3e471322",
        "outputId": "cfbc4b40-2d01-4558-e797-969e6cec7a62"
      },
      "outputs": [
        {
          "output_type": "display_data",
          "data": {
            "text/plain": [
              "<Figure size 640x480 with 1 Axes>"
            ],
            "image/png": "[encoded data removed]"
          },
          "metadata": {}
        }
      ],
      "source": [
        "plt.plot(history.history['loss'])\n",
        "plt.plot(history.history['val_loss'])\n",
        "plt.title('Training Loss vs Validation Loss')\n",
        "plt.ylabel('Loss')\n",
        "plt.xlabel('Epoch')\n",
        "plt.legend(['Train', 'Validation'], loc='upper left')\n",
        "plt.show()"
      ]
    },
    {
      "cell_type": "markdown",
      "id": "caf1377f",
      "metadata": {
        "papermill": {
          "duration": 4.436333,
          "end_time": "2022-12-25T18:32:36.928704",
          "exception": false,
          "start_time": "2022-12-25T18:32:32.492371",
          "status": "completed"
        },
        "tags": [],
        "id": "caf1377f"
      },
      "source": [
        "## Recognition and Post-Processing\n",
        "1. The sort contours function is used to get the correct order of individual characters for correct output extraction. In this case for extracting a single word, a left to right sorting of individual characters is needed.\n",
        "2. The get letters function fetches the list of letters and get word function gets the individual word."
      ]
    },
    {
      "cell_type": "code",
      "execution_count": 33,
      "id": "de76231a",
      "metadata": {
        "execution": {
          "iopub.execute_input": "2022-12-25T18:32:45.493614Z",
          "iopub.status.busy": "2022-12-25T18:32:45.492895Z",
          "iopub.status.idle": "2022-12-25T18:32:45.496596Z",
          "shell.execute_reply": "2022-12-25T18:32:45.496120Z",
          "shell.execute_reply.started": "2022-12-25T16:53:25.783540Z"
        },
        "papermill": {
          "duration": 4.127729,
          "end_time": "2022-12-25T18:32:45.496730",
          "exception": false,
          "start_time": "2022-12-25T18:32:41.369001",
          "status": "completed"
        },
        "tags": [],
        "id": "de76231a"
      },
      "outputs": [],
      "source": [
        "def sort_contours(cnts, method=\"left-to-right\"):\n",
        "    reverse = False\n",
        "    i = 0\n",
        "    if method == \"right-to-left\" or method == \"bottom-to-top\":\n",
        "        reverse = True\n",
        "    if method == \"top-to-bottom\" or method == \"bottom-to-top\":\n",
        "        i = 1\n",
        "    boundingBoxes = [cv2.boundingRect(c) for c in cnts]\n",
        "    (cnts, boundingBoxes) = zip(*sorted(zip(cnts, boundingBoxes),\n",
        "    key=lambda b:b[1][i], reverse=reverse))\n",
        "\n",
        "    return (cnts, boundingBoxes)"
      ]
    },
    {
      "cell_type": "code",
      "execution_count": 40,
      "id": "265605fe",
      "metadata": {
        "execution": {
          "iopub.execute_input": "2022-12-25T18:32:53.919874Z",
          "iopub.status.busy": "2022-12-25T18:32:53.918859Z",
          "iopub.status.idle": "2022-12-25T18:32:53.925741Z",
          "shell.execute_reply": "2022-12-25T18:32:53.925133Z",
          "shell.execute_reply.started": "2022-12-25T17:22:07.123430Z"
        },
        "papermill": {
          "duration": 4.356049,
          "end_time": "2022-12-25T18:32:53.925884",
          "exception": false,
          "start_time": "2022-12-25T18:32:49.569835",
          "status": "completed"
        },
        "tags": [],
        "id": "265605fe"
      },
      "outputs": [],
      "source": [
        "def get_letters(img):\n",
        "    letters = []\n",
        "    total_bbox_cordi = []\n",
        "    image = cv2.imread(img)\n",
        "    gray = cv2.cvtColor(image, cv2.COLOR_BGR2GRAY)\n",
        "    ret,thresh1 = cv2.threshold(gray ,127,255,cv2.THRESH_BINARY_INV)\n",
        "    dilated = cv2.dilate(thresh1, None, iterations=2)\n",
        "\n",
        "    cnts = cv2.findContours(dilated.copy(), cv2.RETR_EXTERNAL,cv2.CHAIN_APPROX_SIMPLE)\n",
        "    cnts = imutils.grab_contours(cnts)\n",
        "    cnts = sort_contours(cnts, method=\"left-to-right\")[0]\n",
        "\n",
        "    for c in cnts:\n",
        "        if cv2.contourArea(c) > 10:\n",
        "            (x, y, w, h) = cv2.boundingRect(c)\n",
        "            print([x,y,w,h])\n",
        "            single_bbox_cordi = [x,y,w,h]\n",
        "            total_bbox_cordi.append(single_bbox_cordi)\n",
        "            cv2.rectangle(image, (x, y), (x + w, y + h), (0, 255, 0), 2)\n",
        "        roi = gray[y:y + h, x:x + w]\n",
        "        thresh = cv2.threshold(roi, 0, 255,cv2.THRESH_BINARY_INV | cv2.THRESH_OTSU)[1]\n",
        "        thresh = cv2.resize(thresh, (32, 32), interpolation = cv2.INTER_CUBIC)\n",
        "        thresh = thresh.astype(\"float32\") / 255.0\n",
        "        thresh = np.expand_dims(thresh, axis=-1)\n",
        "        thresh = thresh.reshape(1,32,32,1)\n",
        "        ypred = model.predict(thresh)\n",
        "        ypred = LB.inverse_transform(ypred)\n",
        "        [x] = ypred\n",
        "        letters.append(x)\n",
        "    return letters, image, total_bbox_cordi\n",
        "\n"
      ]
    },
    {
      "cell_type": "code",
      "execution_count": 41,
      "id": "1dc024ba",
      "metadata": {
        "execution": {
          "iopub.execute_input": "2022-12-25T18:33:02.317516Z",
          "iopub.status.busy": "2022-12-25T18:33:02.316657Z",
          "iopub.status.idle": "2022-12-25T18:33:02.318973Z",
          "shell.execute_reply": "2022-12-25T18:33:02.318438Z",
          "shell.execute_reply.started": "2022-12-25T16:53:25.803807Z"
        },
        "papermill": {
          "duration": 4.284994,
          "end_time": "2022-12-25T18:33:02.319129",
          "exception": false,
          "start_time": "2022-12-25T18:32:58.034135",
          "status": "completed"
        },
        "tags": [],
        "id": "1dc024ba"
      },
      "outputs": [],
      "source": [
        "def get_word(letter):\n",
        "    word = \"\".join(letter)\n",
        "    return word"
      ]
    },
    {
      "cell_type": "code",
      "execution_count": 42,
      "id": "daf061fb",
      "metadata": {
        "execution": {
          "iopub.execute_input": "2022-12-25T18:33:11.005372Z",
          "iopub.status.busy": "2022-12-25T18:33:11.004815Z",
          "iopub.status.idle": "2022-12-25T18:33:11.525243Z",
          "shell.execute_reply": "2022-12-25T18:33:11.524621Z",
          "shell.execute_reply.started": "2022-12-25T17:24:23.763041Z"
        },
        "papermill": {
          "duration": 5.078201,
          "end_time": "2022-12-25T18:33:11.525405",
          "exception": false,
          "start_time": "2022-12-25T18:33:06.447204",
          "status": "completed"
        },
        "tags": [],
        "colab": {
          "base_uri": "https://localhost:8080/",
          "height": 358
        },
        "id": "daf061fb",
        "outputId": "3dadf2f0-f5d2-4589-8365-661d111d7bf9"
      },
      "outputs": [
        {
          "output_type": "stream",
          "name": "stdout",
          "text": [
            "[10, 15, 14, 17]\n",
            "1/1 [==============================] - 0s 152ms/step\n",
            "[26, 16, 10, 16]\n",
            "1/1 [==============================] - 0s 153ms/step\n",
            "[44, 15, 11, 17]\n",
            "1/1 [==============================] - 0s 40ms/step\n",
            "[62, 19, 11, 13]\n",
            "1/1 [==============================] - 0s 57ms/step\n",
            "[82, 15, 12, 18]\n",
            "1/1 [==============================] - 0s 34ms/step\n",
            "BTWES\n",
            "[[10, 15, 14, 17], [26, 16, 10, 16], [44, 15, 11, 17], [62, 19, 11, 13], [82, 15, 12, 18]]\n"
          ]
        },
        {
          "output_type": "execute_result",
          "data": {
            "text/plain": [
              "<matplotlib.image.AxesImage at 0x7f6dc28fcee0>"
            ]
          },
          "metadata": {},
          "execution_count": 42
        },
        {
          "output_type": "display_data",
          "data": {
            "text/plain": [
              "<Figure size 640x480 with 1 Axes>"
            ],
            "image/png": "[encoded data removed]"
          },
          "metadata": {}
        }
      ],
      "source": [
        "letter,image, total_bbox_cordi = get_letters(\"/content/handwrittenTextDataset/train_v2/train/TRAIN_00003.jpg\")\n",
        "word = get_word(letter)\n",
        "print(word)\n",
        "print(total_bbox_cordi)\n",
        "plt.imshow(image)"
      ]
    },
    {
      "cell_type": "code",
      "execution_count": 44,
      "id": "4fbd1fbd",
      "metadata": {
        "execution": {
          "iopub.execute_input": "2022-12-25T18:33:19.932122Z",
          "iopub.status.busy": "2022-12-25T18:33:19.931559Z",
          "iopub.status.idle": "2022-12-25T18:33:20.296970Z",
          "shell.execute_reply": "2022-12-25T18:33:20.296192Z",
          "shell.execute_reply.started": "2022-12-25T17:24:39.850540Z"
        },
        "papermill": {
          "duration": 4.478639,
          "end_time": "2022-12-25T18:33:20.297107",
          "exception": false,
          "start_time": "2022-12-25T18:33:15.818468",
          "status": "completed"
        },
        "tags": [],
        "colab": {
          "base_uri": "https://localhost:8080/",
          "height": 345
        },
        "id": "4fbd1fbd",
        "outputId": "92950391-371c-4645-fc2e-7abdac38f99e"
      },
      "outputs": [
        {
          "output_type": "stream",
          "name": "stdout",
          "text": [
            "[19, 11, 11, 13]\n",
            "1/1 [==============================] - 0s 77ms/step\n",
            "[30, 10, 12, 14]\n",
            "1/1 [==============================] - 0s 152ms/step\n",
            "[49, 11, 13, 14]\n",
            "1/1 [==============================] - 0s 82ms/step\n",
            "[65, 10, 15, 14]\n",
            "1/1 [==============================] - 0s 88ms/step\n",
            "[81, 9, 12, 16]\n",
            "1/1 [==============================] - 0s 241ms/step\n",
            "LIL0U\n",
            "[[19, 11, 11, 13], [30, 10, 12, 14], [49, 11, 13, 14], [65, 10, 15, 14], [81, 9, 12, 16]]\n"
          ]
        },
        {
          "output_type": "execute_result",
          "data": {
            "text/plain": [
              "<matplotlib.image.AxesImage at 0x7f6dc26ccb80>"
            ]
          },
          "metadata": {},
          "execution_count": 44
        },
        {
          "output_type": "display_data",
          "data": {
            "text/plain": [
              "<Figure size 640x480 with 1 Axes>"
            ],
            "image/png": "[encoded data removed]"
          },
          "metadata": {}
        }
      ],
      "source": [
        "letter,image,total_bbox_cordi = get_letters(\"/content/handwrittenTextDataset/train_v2/train/TRAIN_00023.jpg\")\n",
        "word = get_word(letter)\n",
        "print(word)\n",
        "print(total_bbox_cordi)\n",
        "plt.imshow(image)"
      ]
    },
    {
      "cell_type": "code",
      "execution_count": 46,
      "id": "9e5abce2",
      "metadata": {
        "execution": {
          "iopub.execute_input": "2022-12-25T18:33:28.909824Z",
          "iopub.status.busy": "2022-12-25T18:33:28.909251Z",
          "iopub.status.idle": "2022-12-25T18:33:29.346159Z",
          "shell.execute_reply": "2022-12-25T18:33:29.345711Z",
          "shell.execute_reply.started": "2022-12-25T17:24:46.712363Z"
        },
        "papermill": {
          "duration": 4.608822,
          "end_time": "2022-12-25T18:33:29.346309",
          "exception": false,
          "start_time": "2022-12-25T18:33:24.737487",
          "status": "completed"
        },
        "tags": [],
        "colab": {
          "base_uri": "https://localhost:8080/",
          "height": 414
        },
        "id": "9e5abce2",
        "outputId": "848ef066-b59e-4235-bbd2-5ca8bd832044"
      },
      "outputs": [
        {
          "output_type": "stream",
          "name": "stdout",
          "text": [
            "[20, 8, 8, 14]\n",
            "1/1 [==============================] - 0s 42ms/step\n",
            "[35, 8, 10, 13]\n",
            "1/1 [==============================] - 0s 48ms/step\n",
            "[51, 9, 10, 16]\n",
            "1/1 [==============================] - 0s 42ms/step\n",
            "[66, 5, 12, 18]\n",
            "1/1 [==============================] - 0s 45ms/step\n",
            "[82, 8, 10, 18]\n",
            "1/1 [==============================] - 0s 49ms/step\n",
            "[97, 9, 12, 16]\n",
            "1/1 [==============================] - 0s 41ms/step\n",
            "[112, 10, 12, 17]\n",
            "1/1 [==============================] - 0s 38ms/step\n",
            "JHFFE1X\n",
            "[[20, 8, 8, 14], [35, 8, 10, 13], [51, 9, 10, 16], [66, 5, 12, 18], [82, 8, 10, 18], [97, 9, 12, 16], [112, 10, 12, 17]]\n"
          ]
        },
        {
          "output_type": "execute_result",
          "data": {
            "text/plain": [
              "<matplotlib.image.AxesImage at 0x7f6dc26f58d0>"
            ]
          },
          "metadata": {},
          "execution_count": 46
        },
        {
          "output_type": "display_data",
          "data": {
            "text/plain": [
              "<Figure size 640x480 with 1 Axes>"
            ],
            "image/png": "[encoded data removed]"
          },
          "metadata": {}
        }
      ],
      "source": [
        "letter,image, total_bbox_cordi = get_letters(\"/content/handwrittenTextDataset/train_v2/train/TRAIN_00030.jpg\")\n",
        "word = get_word(letter)\n",
        "print(word)\n",
        "print(total_bbox_cordi)\n",
        "plt.imshow(image)"
      ]
    },
    {
      "cell_type": "code",
      "execution_count": 48,
      "id": "bdc132f9",
      "metadata": {
        "execution": {
          "iopub.execute_input": "2022-12-25T18:33:37.876571Z",
          "iopub.status.busy": "2022-12-25T18:33:37.875931Z",
          "iopub.status.idle": "2022-12-25T18:33:38.201207Z",
          "shell.execute_reply": "2022-12-25T18:33:38.200609Z",
          "shell.execute_reply.started": "2022-12-25T17:48:49.219458Z"
        },
        "papermill": {
          "duration": 4.755455,
          "end_time": "2022-12-25T18:33:38.201365",
          "exception": false,
          "start_time": "2022-12-25T18:33:33.445910",
          "status": "completed"
        },
        "tags": [],
        "colab": {
          "base_uri": "https://localhost:8080/",
          "height": 310
        },
        "id": "bdc132f9",
        "outputId": "e32e04c1-0c52-4700-d39c-e71698d85c66"
      },
      "outputs": [
        {
          "output_type": "stream",
          "name": "stdout",
          "text": [
            "[18, 8, 13, 19]\n",
            "1/1 [==============================] - 0s 159ms/step\n",
            "[33, 9, 12, 18]\n",
            "1/1 [==============================] - 0s 201ms/step\n",
            "[50, 8, 14, 18]\n",
            "1/1 [==============================] - 0s 206ms/step\n",
            "[65, 7, 15, 18]\n",
            "1/1 [==============================] - 0s 247ms/step\n",
            "RUPP\n",
            "[[18, 8, 13, 19], [33, 9, 12, 18], [50, 8, 14, 18], [65, 7, 15, 18]]\n"
          ]
        },
        {
          "output_type": "execute_result",
          "data": {
            "text/plain": [
              "<matplotlib.image.AxesImage at 0x7f6dc2536800>"
            ]
          },
          "metadata": {},
          "execution_count": 48
        },
        {
          "output_type": "display_data",
          "data": {
            "text/plain": [
              "<Figure size 640x480 with 1 Axes>"
            ],
            "image/png": "[encoded data removed]"
          },
          "metadata": {}
        }
      ],
      "source": [
        "letter,image,total_bbox_cordi = get_letters(\"/content/handwrittenTextDataset/validation_v2/validation/VALIDATION_0005.jpg\")\n",
        "word = get_word(letter)\n",
        "print(word)\n",
        "print(total_bbox_cordi)\n",
        "plt.imshow(image)"
      ]
    },
    {
      "cell_type": "code",
      "execution_count": 63,
      "id": "034337cb",
      "metadata": {
        "execution": {
          "iopub.execute_input": "2022-12-25T18:33:47.093782Z",
          "iopub.status.busy": "2022-12-25T18:33:47.093129Z",
          "iopub.status.idle": "2022-12-25T18:33:47.607499Z",
          "shell.execute_reply": "2022-12-25T18:33:47.607907Z",
          "shell.execute_reply.started": "2022-12-25T17:55:51.129234Z"
        },
        "papermill": {
          "duration": 4.846952,
          "end_time": "2022-12-25T18:33:47.608073",
          "exception": false,
          "start_time": "2022-12-25T18:33:42.761121",
          "status": "completed"
        },
        "tags": [],
        "colab": {
          "base_uri": "https://localhost:8080/",
          "height": 516
        },
        "id": "034337cb",
        "outputId": "9a602edb-1596-47ee-b0ae-696674ca1412"
      },
      "outputs": [
        {
          "output_type": "stream",
          "name": "stdout",
          "text": [
            "[9, 15, 14, 16]\n",
            "1/1 [==============================] - 0s 63ms/step\n",
            "[28, 12, 13, 18]\n",
            "1/1 [==============================] - 0s 44ms/step\n",
            "[48, 13, 11, 17]\n",
            "1/1 [==============================] - 0s 45ms/step\n",
            "[65, 12, 13, 18]\n",
            "1/1 [==============================] - 0s 54ms/step\n",
            "[80, 13, 16, 16]\n",
            "1/1 [==============================] - 0s 42ms/step\n",
            "[99, 14, 13, 15]\n",
            "1/1 [==============================] - 0s 46ms/step\n",
            "[113, 14, 15, 17]\n",
            "1/1 [==============================] - 0s 103ms/step\n",
            "[135, 14, 13, 16]\n",
            "1/1 [==============================] - 0s 64ms/step\n",
            "[151, 13, 13, 17]\n",
            "1/1 [==============================] - 0s 87ms/step\n",
            "VALENTJNF\n",
            "[[9, 15, 14, 16], [28, 12, 13, 18], [48, 13, 11, 17], [65, 12, 13, 18], [80, 13, 16, 16], [99, 14, 13, 15], [113, 14, 15, 17], [135, 14, 13, 16], [151, 13, 13, 17]]\n"
          ]
        },
        {
          "output_type": "execute_result",
          "data": {
            "text/plain": [
              "<matplotlib.image.AxesImage at 0x7f6dbdba8fd0>"
            ]
          },
          "metadata": {},
          "execution_count": 63
        },
        {
          "output_type": "display_data",
          "data": {
            "text/plain": [
              "<Figure size 640x480 with 1 Axes>"
            ],
            "image/png": "[encoded data removed]"
          },
          "metadata": {}
        }
      ],
      "source": [
        "letter,image, total_bbox_cordi = get_letters(\"/content/handwrittenTextDataset/test_v2/test/TEST_0007.jpg\")\n",
        "word = get_word(letter)\n",
        "print(word)\n",
        "print(total_bbox_cordi)\n",
        "plt.imshow(image)"
      ]
    },
    {
      "cell_type": "code",
      "execution_count": 64,
      "id": "b1e18c44",
      "metadata": {
        "execution": {
          "iopub.execute_input": "2022-12-25T18:33:55.840189Z",
          "iopub.status.busy": "2022-12-25T18:33:55.838619Z",
          "iopub.status.idle": "2022-12-25T18:33:55.842295Z",
          "shell.execute_reply": "2022-12-25T18:33:55.841843Z",
          "shell.execute_reply.started": "2022-12-25T17:12:29.175631Z"
        },
        "papermill": {
          "duration": 4.118482,
          "end_time": "2022-12-25T18:33:55.842431",
          "exception": false,
          "start_time": "2022-12-25T18:33:51.723949",
          "status": "completed"
        },
        "tags": [],
        "colab": {
          "base_uri": "https://localhost:8080/"
        },
        "id": "b1e18c44",
        "outputId": "854ad8a8-723b-4d42-8ef2-b763dacff749"
      },
      "outputs": [
        {
          "output_type": "execute_result",
          "data": {
            "text/plain": [
              "['V', 'A', 'L', 'E', 'N', 'T', 'J', 'N', 'F']"
            ]
          },
          "metadata": {},
          "execution_count": 64
        }
      ],
      "source": [
        "letter"
      ]
    },
    {
      "cell_type": "code",
      "execution_count": 65,
      "id": "786faa4b",
      "metadata": {
        "execution": {
          "iopub.execute_input": "2022-12-25T18:34:04.246172Z",
          "iopub.status.busy": "2022-12-25T18:34:04.245313Z",
          "iopub.status.idle": "2022-12-25T18:34:04.570237Z",
          "shell.execute_reply": "2022-12-25T18:34:04.569644Z",
          "shell.execute_reply.started": "2022-12-25T17:57:08.077016Z"
        },
        "papermill": {
          "duration": 4.42225,
          "end_time": "2022-12-25T18:34:04.570391",
          "exception": false,
          "start_time": "2022-12-25T18:34:00.148141",
          "status": "completed"
        },
        "tags": [],
        "colab": {
          "base_uri": "https://localhost:8080/",
          "height": 431
        },
        "id": "786faa4b",
        "outputId": "34600c81-071b-4dc7-e2b2-3eded4bf47d0"
      },
      "outputs": [
        {
          "output_type": "display_data",
          "data": {
            "text/plain": [
              "<Figure size 1500x1000 with 9 Axes>"
            ],
            "image/png": "[encoded data removed]"
          },
          "metadata": {}
        }
      ],
      "source": [
        "plt.figure(figsize=(15, 10))\n",
        "for i in range(0,len(total_bbox_cordi)):\n",
        "    ax = plt.subplot(10, 2, i+1)\n",
        "    t =total_bbox_cordi[i]\n",
        "    x_min = t[0]\n",
        "    y_min = t[1]\n",
        "    w_min = t[2]\n",
        "    h_min= t[3]\n",
        "    cropped_image = image[y_min:y_min+h_min, x_min:x_min+w_min]\n",
        "    plt.title(letter[i], fontsize=12)\n",
        "    plt.imshow(cropped_image)\n",
        "    plt.axis('off')\n",
        "plt.subplots_adjust(wspace=0.4, hspace=0.5)"
      ]
    },
    {
      "cell_type": "code",
      "execution_count": 55,
      "id": "786b35a9",
      "metadata": {
        "execution": {
          "iopub.execute_input": "2022-12-25T18:34:13.612227Z",
          "iopub.status.busy": "2022-12-25T18:34:13.611216Z",
          "iopub.status.idle": "2022-12-25T18:34:15.932343Z",
          "shell.execute_reply": "2022-12-25T18:34:15.931644Z",
          "shell.execute_reply.started": "2022-12-25T16:53:36.257740Z"
        },
        "papermill": {
          "duration": 6.937005,
          "end_time": "2022-12-25T18:34:15.932527",
          "exception": false,
          "start_time": "2022-12-25T18:34:08.995522",
          "status": "completed"
        },
        "tags": [],
        "colab": {
          "base_uri": "https://localhost:8080/"
        },
        "id": "786b35a9",
        "outputId": "d716bb76-bf4c-4c64-f4f5-5335bb37a86d"
      },
      "outputs": [
        {
          "output_type": "stream",
          "name": "stderr",
          "text": [
            "WARNING:absl:Found untraced functions such as _jit_compiled_convolution_op, _jit_compiled_convolution_op, _jit_compiled_convolution_op, _update_step_xla while saving (showing 4 of 4). These functions will not be directly callable after loading.\n"
          ]
        }
      ],
      "source": [
        "!mkdir -p saved_model\n",
        "model.save('saved_model/my_model')"
      ]
    }
  ],
  "metadata": {
    "kernelspec": {
      "display_name": "Python 3",
      "language": "python",
      "name": "python3"
    },
    "language_info": {
      "codemirror_mode": {
        "name": "ipython",
        "version": 3
      },
      "file_extension": ".py",
      "mimetype": "text/x-python",
      "name": "python",
      "nbconvert_exporter": "python",
      "pygments_lexer": "ipython3",
      "version": "3.7.12"
    },
    "papermill": {
      "default_parameters": {},
      "duration": 2092.279571,
      "end_time": "2022-12-25T18:34:33.263552",
      "environment_variables": {},
      "exception": null,
      "input_path": "__notebook__.ipynb",
      "output_path": "__notebook__.ipynb",
      "parameters": {},
      "start_time": "2022-12-25T17:59:40.983981",
      "version": "2.3.3"
    },
    "colab": {
      "provenance": [],
      "include_colab_link": true
    }
  },
  "nbformat": 4,
  "nbformat_minor": 5
}